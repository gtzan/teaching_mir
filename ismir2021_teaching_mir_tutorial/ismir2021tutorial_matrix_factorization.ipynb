{
 "cells": [
  {
   "cell_type": "markdown",
   "metadata": {},
   "source": [
    "# Matrix Factorization and Sound Source Separation   \n",
    "### George Tzanetakis, University of Victoria\n",
    "\n",
    "In this notebook, we will look at the basic ideas behind matrix factorization and especially non-negative matrix factorization and how it can be used for sound source separation in music. \n",
    "\n"
   ]
  },
  {
   "cell_type": "code",
   "execution_count": 1,
   "metadata": {},
   "outputs": [],
   "source": [
    "import numpy as np \n",
    "import matplotlib.pyplot as plt "
   ]
  },
  {
   "cell_type": "markdown",
   "metadata": {},
   "source": [
    "Let's start our exposition by considering two binary vectors each one with 6 elements. "
   ]
  },
  {
   "cell_type": "code",
   "execution_count": 2,
   "metadata": {},
   "outputs": [
    {
     "name": "stdout",
     "output_type": "stream",
     "text": [
      "(6, 1)\n",
      "(6, 1)\n"
     ]
    }
   ],
   "source": [
    "a = np.array([1, 0, 1, 0, 0, 0])\n",
    "b = np.array([0, 0, 0, 1, 1, 0])\n",
    "a = a.reshape(-1,1)\n",
    "b = b.reshape(-1,1)\n",
    "print(a.shape)\n",
    "print(b.shape)"
   ]
  },
  {
   "cell_type": "markdown",
   "metadata": {},
   "source": [
    "We can create a 6 by 2 matrix by stacking these two column vectors horizontally. We can visualize the two vectors and the resulting matrix to better understand the process. "
   ]
  },
  {
   "cell_type": "code",
   "execution_count": 3,
   "metadata": {},
   "outputs": [
    {
     "data": {
      "image/png": "[encoded data removed]",
      "text/plain": [
       "<Figure size 432x288 with 3 Axes>"
      ]
     },
     "metadata": {
      "needs_background": "light"
     },
     "output_type": "display_data"
    },
    {
     "name": "stdout",
     "output_type": "stream",
     "text": [
      "(6, 2)\n"
     ]
    }
   ],
   "source": [
    "plt.figure() \n",
    "plt.subplot(1,3,1)\n",
    "plt.imshow(a, origin='lower')\n",
    "plt.subplot(1,3,2)\n",
    "plt.imshow(b, origin='lower')\n",
    "plt.subplot(1,3,3)\n",
    "W = np.hstack([a,b])\n",
    "plt.imshow(W, origin='lower')\n",
    "plt.show()\n",
    "print(W.shape)"
   ]
  },
  {
   "cell_type": "markdown",
   "metadata": {},
   "source": [
    "Now lets create a longer sequence of these vectors by repeating 4 times vector a, then two times vector b, and then 2 times vector a. The resulting matrix is a 6 by 7 matrix that we can visualize and clearly see the underlying patterns of repetition. "
   ]
  },
  {
   "cell_type": "code",
   "execution_count": 4,
   "metadata": {},
   "outputs": [
    {
     "name": "stdout",
     "output_type": "stream",
     "text": [
      "(6, 7)\n"
     ]
    },
    {
     "data": {
      "image/png": "[encoded data removed]",
      "text/plain": [
       "<Figure size 432x288 with 1 Axes>"
      ]
     },
     "metadata": {
      "needs_background": "light"
     },
     "output_type": "display_data"
    }
   ],
   "source": [
    "F = np.hstack([a,a,a,b,b,a,a])\n",
    "print(F.shape)\n",
    "plt.imshow(F,origin='lower')\n",
    "plt.show()"
   ]
  },
  {
   "cell_type": "markdown",
   "metadata": {},
   "source": [
    "Now lets consider a 2 by 7 matrix that has two rows where the first row has a one in the places where vector a is present and zero otherwise and the second row has ones and zeroes similarly for vector b. As we will see shortly this matrix encodes the repetitition structure of vectors a and b in the matrix F. "
   ]
  },
  {
   "cell_type": "code",
   "execution_count": 5,
   "metadata": {},
   "outputs": [
    {
     "data": {
      "image/png": "[encoded data removed]",
      "text/plain": [
       "<Figure size 720x1440 with 1 Axes>"
      ]
     },
     "metadata": {
      "needs_background": "light"
     },
     "output_type": "display_data"
    },
    {
     "name": "stdout",
     "output_type": "stream",
     "text": [
      "(2, 7)\n"
     ]
    }
   ],
   "source": [
    "H = np.array([[1,1,1,0,0,1,1], [0,0,0,1,1,0,0]])\n",
    "\n",
    "plt.figure(figsize=(10,20))\n",
    "plt.imshow(H, origin='lower')\n",
    "plt.ylim([0.0, 1.0])\n",
    "plt.show()\n",
    "print(H.shape)"
   ]
  },
  {
   "cell_type": "markdown",
   "metadata": {},
   "source": [
    "If we multiply the matrix W which has as columns the original vectors a and b and the matrix H that has rows that indicate where a is present and where b is present then we get as the result the matrix Fn which is identical to the matrix F. So basically the matrix H encodes the positions and repetitions of the vectors a and b when they form matrix F. "
   ]
  },
  {
   "cell_type": "code",
   "execution_count": 6,
   "metadata": {},
   "outputs": [
    {
     "data": {
      "image/png": "[encoded data removed]",
      "text/plain": [
       "<Figure size 432x288 with 1 Axes>"
      ]
     },
     "metadata": {
      "needs_background": "light"
     },
     "output_type": "display_data"
    }
   ],
   "source": [
    "Fn = np.matmul(W,H)\n",
    "Fn.shape\n",
    "plt.imshow(Fn, origin='lower')\n",
    "plt.show()"
   ]
  },
  {
   "cell_type": "markdown",
   "metadata": {},
   "source": [
    "Lets visualize this matrix multiplication - if your memory of matrix multiplication is rusty this would be a good place to take a break and review the concept - there are plenty of tutorial and videos online. "
   ]
  },
  {
   "cell_type": "code",
   "execution_count": 7,
   "metadata": {},
   "outputs": [
    {
     "data": {
      "text/plain": [
       "<Figure size 288x576 with 0 Axes>"
      ]
     },
     "metadata": {},
     "output_type": "display_data"
    },
    {
     "data": {
      "image/png": "[encoded data removed]",
      "text/plain": [
       "<Figure size 432x288 with 3 Axes>"
      ]
     },
     "metadata": {
      "needs_background": "light"
     },
     "output_type": "display_data"
    },
    {
     "name": "stdout",
     "output_type": "stream",
     "text": [
      "(6, 7)\n",
      "(6, 2)\n",
      "(2, 7)\n"
     ]
    }
   ],
   "source": [
    "def adjustw(images, wspace=\"auto\"):\n",
    "    fig = images[0].axes.figure\n",
    "    if wspace==\"auto\":\n",
    "        wspace = fig.subplotpars.wspace\n",
    "    top = fig.subplotpars.top\n",
    "    bottom = fig.subplotpars.bottom\n",
    "    shapes = np.array([im.get_array().shape for im in images])\n",
    "    w,h = fig.get_size_inches()\n",
    "    imw = (top-bottom)*h/shapes[:,0].max()*shapes[0,1] #inch\n",
    "    n = len(shapes)\n",
    "    left = -((n+(n-1)*wspace)*imw/w - 1)/2.\n",
    "    right = 1.-left\n",
    "    fig.subplots_adjust(left=left, right=right, wspace=wspace)\n",
    "\n",
    "plt.figure(figsize=(4,8))\n",
    "fig, ax = plt.subplots(1,3)\n",
    "im1 = ax[0].imshow(Fn)\n",
    "im2 = ax[1].imshow(W)\n",
    "im3 = ax[2].imshow(H)\n",
    "adjustw([im1,im2,im3], wspace=0.0)\n",
    "plt.show()\n",
    "\n",
    "print(F.shape)\n",
    "print(W.shape)\n",
    "print(H.shape)"
   ]
  },
  {
   "cell_type": "markdown",
   "metadata": {},
   "source": [
    "The same process can also work when the underlying vectors/matrices are not just binary but have arbitrary values. Below shows an example. Each column of the matrix F is expressed as linear combination of the column vectors in W. H encodes the weights/coefficients of this linear combination. "
   ]
  },
  {
   "cell_type": "code",
   "execution_count": 8,
   "metadata": {},
   "outputs": [],
   "source": [
    "H = np.array([[0.8, 0.5, 0.8, 0.1, 0.2, 0.9, 0.8],\n",
    "              [0.2, 0.5, 0.2, 0.9, 0.8, 0.1, 0.2]])\n",
    "W = [[0.8, 0.1], \n",
    "     [0.0, 0.0], \n",
    "     [0.7, 0.1], \n",
    "     [0.0, 0.8], \n",
    "     [0.1, 0.9], \n",
    "     [0.1, 0.1]\n",
    "    ]\n",
    "Fn = np.matmul(W,H)\n"
   ]
  },
  {
   "cell_type": "code",
   "execution_count": 9,
   "metadata": {},
   "outputs": [
    {
     "data": {
      "text/plain": [
       "<Figure size 288x576 with 0 Axes>"
      ]
     },
     "metadata": {},
     "output_type": "display_data"
    },
    {
     "data": {
      "image/png": "[encoded data removed]",
      "text/plain": [
       "<Figure size 432x288 with 3 Axes>"
      ]
     },
     "metadata": {
      "needs_background": "light"
     },
     "output_type": "display_data"
    }
   ],
   "source": [
    "def adjustw(images, wspace=\"auto\"):\n",
    "    fig = images[0].axes.figure\n",
    "    if wspace==\"auto\":\n",
    "        wspace = fig.subplotpars.wspace\n",
    "    top = fig.subplotpars.top\n",
    "    bottom = fig.subplotpars.bottom\n",
    "    shapes = np.array([im.get_array().shape for im in images])\n",
    "    w,h = fig.get_size_inches()\n",
    "    imw = (top-bottom)*h/shapes[:,0].max()*shapes[0,1] #inch\n",
    "    n = len(shapes)\n",
    "    left = -((n+(n-1)*wspace)*imw/w - 1)/2.\n",
    "    right = 1.-left\n",
    "    fig.subplots_adjust(left=left, right=right, wspace=wspace)\n",
    "\n",
    "plt.figure(figsize=(4,8))\n",
    "fig, ax = plt.subplots(1,3)\n",
    "im1 = ax[0].imshow(Fn)\n",
    "im2 = ax[1].imshow(W)\n",
    "im3 = ax[2].imshow(H)\n",
    "adjustw([im1,im2,im3], wspace=0.0)\n",
    "plt.show()"
   ]
  },
  {
   "cell_type": "markdown",
   "metadata": {},
   "source": [
    "Matrix factorization or decomposition refers to the process of expressing a matrix as the matrix product of two or more matrices. In the case we examined above the matrix F is expressed as the product of matrices W and H. \n",
    "\n",
    "There are two variants of factorization. In the first variant we are given matrix F and we want to find matrices W and H such as the matrix multiplication of W and H results in a matrix that approximates F. Generally this will not be a perfect match and factorization algorithms try to minimize some kind of error metric between the resulting Fn matrix and the original matrix F. \n",
    "\n",
    "In the second easier variant, matrices F and W are given and the goal is to estimate the matrix H. \n"
   ]
  },
  {
   "cell_type": "markdown",
   "metadata": {},
   "source": [
    "In many applications it desirable that the matrices W and H contain only positive and zero elements and has no negative value. What this implies is that each column of the matrix F is formed by summing with possibly different weights the columns of W. This is called non-negative matrix factorization (NMF). \n",
    "\n",
    "Sound source separation using time-frequency representations is one such application area. The matrix F is the magnitude spectrogram (or some other time-frequency representation) that shows how much energy there is for different time-frequency atoms. In theory when performing NMF on a spectrogram the matrix W will contain the magnitude spectra of the individual sound sources and the matrix H, also called the activiation matrix shows how they are combined at every time instance. The activation matrix can be viewed as a score and the basis matrix W can be considered as representing spectrally the different sound sources.\n"
   ]
  },
  {
   "cell_type": "code",
   "execution_count": null,
   "metadata": {},
   "outputs": [],
   "source": []
  }
 ],
 "metadata": {
  "kernelspec": {
   "display_name": "Python 3",
   "language": "python",
   "name": "python3"
  },
  "language_info": {
   "codemirror_mode": {
    "name": "ipython",
    "version": 3
   },
   "file_extension": ".py",
   "mimetype": "text/x-python",
   "name": "python",
   "nbconvert_exporter": "python",
   "pygments_lexer": "ipython3",
   "version": "3.7.1"
  }
 },
 "nbformat": 4,
 "nbformat_minor": 2
}
